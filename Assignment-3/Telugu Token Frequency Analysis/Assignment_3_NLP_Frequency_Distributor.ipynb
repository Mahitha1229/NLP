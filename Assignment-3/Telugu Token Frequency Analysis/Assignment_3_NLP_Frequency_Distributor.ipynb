{
 "cells": [
  {
   "cell_type": "markdown",
   "id": "7b3b0267",
   "metadata": {},
   "source": [
    "# Telugu Token Frequency Analysis\n",
    "\n",
    "This notebook reads a tokenized Telugu text file, filters out stopwords, and plots the top 100 most frequent tokens using Matplotlib."
   ]
  },
  {
   "cell_type": "code",
   "execution_count": null,
   "id": "5454d857",
   "metadata": {},
   "outputs": [],
   "source": [
    "import matplotlib.pyplot as plt\n",
    "from collections import Counter\n",
    "import matplotlib.font_manager as fm\n",
    "import os"
   ]
  },
  {
   "cell_type": "markdown",
   "id": "76f6002b",
   "metadata": {},
   "source": [
    "## Load the Tokenized Telugu File\n",
    "\n",
    "We load the tokens from the text file into a list."
   ]
  },
  {
   "cell_type": "code",
   "execution_count": null,
   "id": "ae1f6196",
   "metadata": {},
   "outputs": [],
   "source": [
    "# Path to your tokenized Telugu file\n",
    "token_file = \"tokenized_telugu.txt\"\n",
    "\n",
    "# Load tokens\n",
    "with open(token_file, \"r\", encoding=\"utf-8\") as f:\n",
    "    tokens = [token for line in f for token in line.strip().split()]"
   ]
  },
  {
   "cell_type": "markdown",
   "id": "8d976c05",
   "metadata": {},
   "source": [
    "## Filter Telugu Tokens\n",
    "\n",
    "We keep only the tokens that contain Telugu characters."
   ]
  },
  {
   "cell_type": "code",
   "execution_count": null,
   "id": "adfe2d6e",
   "metadata": {},
   "outputs": [],
   "source": [
    "# Filter Telugu tokens (Unicode range U+0C00 to U+0C7F)\n",
    "def is_telugu(token):\n",
    "    return any('\\u0C00' <= ch <= '\\u0C7F' for ch in token)\n",
    "\n",
    "telugu_tokens = [token for token in tokens if is_telugu(token)]"
   ]
  },
  {
   "cell_type": "markdown",
   "id": "f52c976e",
   "metadata": {},
   "source": [
    "## Remove Telugu Stopwords\n",
    "\n",
    "We remove common Telugu stopwords so the analysis focuses on meaningful words."
   ]
  },
  {
   "cell_type": "code",
   "execution_count": null,
   "id": "3f68f540",
   "metadata": {},
   "outputs": [],
   "source": [
    "# Telugu stop words (customize as needed)\n",
    "telugu_stopwords = set([\n",
    "    \"ఇది\", \"అందరు\", \"మరియు\", \"తర్వాత\", \"కాని\", \"అయితే\", \"కూడా\", \"ఉంది\", \"ఉన్న\", \"చేసి\",\n",
    "    \"వారు\", \"మీ\", \"నా\", \"తన\", \"తాము\", \"ఇంకా\", \"పైన\", \"కింద\", \"పాటు\", \"తో\", \"లో\", \"కి\", \"పై\"\n",
    "])\n",
    "\n",
    "filtered_tokens = [token for token in telugu_tokens if token not in telugu_stopwords]"
   ]
  },
  {
   "cell_type": "markdown",
   "id": "14b55418",
   "metadata": {},
   "source": [
    "## Count Word Frequencies\n",
    "\n",
    "We use `Counter` to get the top 100 most frequent words."
   ]
  },
  {
   "cell_type": "code",
   "execution_count": null,
   "id": "595041a4",
   "metadata": {},
   "outputs": [],
   "source": [
    "# Frequency distribution\n",
    "freq_dist = Counter(filtered_tokens)\n",
    "top_tokens = freq_dist.most_common(100)\n",
    "tokens, counts = zip(*top_tokens)"
   ]
  },
  {
   "cell_type": "markdown",
   "id": "af7dd28e",
   "metadata": {},
   "source": [
    "## Load Telugu Font\n",
    "\n",
    "We load the NotoSans Telugu font to ensure proper display in the graph."
   ]
  },
  {
   "cell_type": "code",
   "execution_count": null,
   "id": "7227b994",
   "metadata": {},
   "outputs": [],
   "source": [
    "font_path = r\"C:\\Users\\Mahitha\\OneDrive\\Desktop\\SVNIT\\Semester - 5\\Lab\\NLP\\NotoSansTelugu-VariableFont_wdth,wght.ttf\"\n",
    "telugu_font = None\n",
    "\n",
    "if os.path.exists(font_path):\n",
    "    telugu_font = fm.FontProperties(fname=font_path)\n",
    "    print(f\"✅ Telugu font loaded: {telugu_font.get_name()}\")\n",
    "else:\n",
    "    print(\"⚠ Font not found, using default font.\")"
   ]
  },
  {
   "cell_type": "markdown",
   "id": "448c5bb7",
   "metadata": {},
   "source": [
    "## Plot the Graph\n",
    "\n",
    "We display the top 100 Telugu tokens in a horizontal bar chart."
   ]
  },
  {
   "cell_type": "code",
   "execution_count": null,
   "id": "503fc411",
   "metadata": {},
   "outputs": [],
   "source": [
    "# Plotting\n",
    "plt.figure(figsize=(14, 12))  # Bigger figure for 100 labels\n",
    "plt.barh(tokens[::-1], counts[::-1], color=\"teal\")\n",
    "plt.xlabel(\"Frequency\", fontsize=16, fontproperties=telugu_font)\n",
    "plt.title(\"Top 100 Telugu Tokens\", fontsize=18, fontproperties=telugu_font)\n",
    "plt.xticks(fontsize=14)\n",
    "\n",
    "# Apply Telugu font explicitly to y-axis labels with bigger font\n",
    "if telugu_font:\n",
    "    plt.yticks(range(len(tokens[::-1])), tokens[::-1], fontsize=12, fontproperties=telugu_font)\n",
    "else:\n",
    "    plt.yticks(range(len(tokens[::-1])), tokens[::-1], fontsize=12)\n",
    "\n",
    "plt.gca().invert_yaxis()  # Highest frequency at top\n",
    "plt.tight_layout()\n",
    "plt.show()\n"
   ]
  }
 ],
 "metadata": {
  "kernelspec": {
   "display_name": "Python 3",
   "language": "python",
   "name": "python3"
  },
  "language_info": {
   "codemirror_mode": {
    "name": "ipython",
    "version": 3
   },
   "file_extension": ".py",
   "mimetype": "text/x-python",
   "name": "python",
   "nbconvert_exporter": "python",
   "pygments_lexer": "ipython3",
   "version": "3.12.2"
  }
 },
 "nbformat": 4,
 "nbformat_minor": 5
}
