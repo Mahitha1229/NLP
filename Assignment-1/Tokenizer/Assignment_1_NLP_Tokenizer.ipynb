{
  "cells": [
    {
      "cell_type": "markdown",
      "metadata": {},
      "source": [
        "# Telugu Tokenization Pipeline using IndicCorpV2\n",
        "\n",
        "This notebook demonstrates how to:\n",
        "- Load Telugu text from the AI4Bharat IndicCorpV2 dataset\n",
        "- Tokenize text into sentences and words using Unicode-aware regex\n",
        "- Save tokenized output to a file\n",
        "- Compute corpus-level statistics\n",
        "- Tokenize user input interactively\n",
        "\n",
        "---"
      ]
    },
    {
      "cell_type": "code",
      "execution_count": null,
      "metadata": {
        "collapsed": true,
        "id": "j6OH5jdomkPS"
      },
      "outputs": [],
      "source": [
        "# Load dataset \n",
        "# !pip install datasets\n",
        "from datasets import load_dataset\n",
        "\n",
        "dataset = load_dataset(\"ai4bharat/IndicCorpV2\", \"indiccorp_v2\", split=\"tel_Telu\", streaming=True)\n",
        "first_item = next(iter(dataset))\n",
        "print(first_item['text'])"
      ]
    },
    {
      "cell_type": "markdown",
      "metadata": {},
      "source": [
        "## Tokenization Functions\n",
        "\n",
        "We define two functions:\n",
        "- `tokenize_sentences`: Splits text into sentences using punctuation.\n",
        "- `tokenize_words`: Uses regex to extract Telugu words, numbers, dates, URLs, emails, and punctuation."
      ]
    },
    {
      "cell_type": "code",
      "execution_count": 5,
      "metadata": {
        "collapsed": true,
        "id": "EjHEz5p4o1i8"
      },
      "outputs": [],
      "source": [
        "# Define Tokenizers\n",
        "import re\n",
        "\n",
        "def tokenize_sentences(text):\n",
        "    sentences = re.split(r'[।.!?]+\\s*', text)\n",
        "    return [s.strip() for s in sentences if s.strip()]\n",
        "\n",
        "def tokenize_words(text):\n",
        "    pattern = r'''\n",
        "        \\d{1,2}[/-]\\d{1,2}[/-]\\d{2,4}     |  # Dates like 12/08/2025\n",
        "        \\d{4}-\\d{2}-\\d{2}                 |  # Dates like 2025-08-05\n",
        "        https?://\\S+                     |  # URLs with http or https\n",
        "        www\\.\\S+                         |  # URLs starting with www\n",
        "        [\\w._%+-]+@[\\w.-]+\\.\\w+          |  # Email addresses\n",
        "        \\d+\\.\\d+                         |  # Decimal numbers\n",
        "        \\d+                              |  # Whole numbers\n",
        "        [\\u0C00-\\u0C7F]+                 |  # Telugu words\n",
        "        [^\\s\\u0C00-\\u0C7F]               # Punctuation and symbols\n",
        "    '''\n",
        "    return re.findall(pattern, text, re.VERBOSE)"
      ]
    },
    {
      "cell_type": "markdown",
      "metadata": {},
      "source": [
        "## Tokenize Dataset and Save to File\n",
        "\n",
        "We tokenize each paragraph into sentences and words, then save the output to a `.txt` file.\n"
      ]
    },
    {
      "cell_type": "code",
      "execution_count": 6,
      "metadata": {
        "collapsed": true,
        "id": "Sdx0WXj8qEcf"
      },
      "outputs": [],
      "source": [
        "# Tokenize and Save\n",
        "output_file = \"tokenized_telugu.txt\"\n",
        "\n",
        "sentence_list = []\n",
        "word_list = []\n",
        "\n",
        "with open(output_file, \"w\", encoding=\"utf-8\") as f_out:\n",
        "    count = 0\n",
        "    for item in dataset:\n",
        "        paragraph = item[\"text\"]\n",
        "        sentences = tokenize_sentences(paragraph)\n",
        "\n",
        "        for sent in sentences:\n",
        "            words = tokenize_words(sent)\n",
        "            if words:\n",
        "                f_out.write(\" \".join(words) + \"\\n\")\n",
        "                sentence_list.append(words)\n",
        "                word_list.extend(words)\n",
        "\n",
        "        # Limit for quick testing\n",
        "        count += 1\n",
        "        if count >= 1000:\n",
        "            break\n"
      ]
    },
    {
      "cell_type": "markdown",
      "metadata": {},
      "source": [
        "## Corpus Statistics\n",
        "\n",
        "We compute:\n",
        "- Total sentences, words, and characters\n",
        "- Average sentence and word length\n",
        "- Type/Token Ratio (TTR)\n"
      ]
    },
    {
      "cell_type": "code",
      "execution_count": 4,
      "metadata": {
        "id": "ZZatnkhzdQRB"
      },
      "outputs": [],
      "source": [
        "# Compute Statistics\n",
        "def compute_statistics(sentences, words):\n",
        "    total_sentences = len(sentences)\n",
        "    total_words = len(words)\n",
        "    total_chars = sum(len(word) for word in words)\n",
        "    avg_sentence_len = total_words / total_sentences if total_sentences > 0 else 0\n",
        "    avg_word_len = total_chars / total_words if total_words > 0 else 0\n",
        "    ttr = len(set(words)) / total_words if total_words > 0 else 0\n",
        "\n",
        "    return {\n",
        "        'Total Sentences': total_sentences,\n",
        "        'Total Words': total_words,\n",
        "        'Total Characters': total_chars,\n",
        "        'Average Sentence Length': round(avg_sentence_len, 2),\n",
        "        'Average Word Length': round(avg_word_len, 2),\n",
        "        'Type/Token Ratio (TTR)': round(ttr, 4)\n",
        "    }\n"
      ]
    },
    {
      "cell_type": "code",
      "execution_count": null,
      "metadata": {
        "id": "lFf-d7indTgl"
      },
      "outputs": [],
      "source": [
        "stats = compute_statistics(sentence_list, word_list)\n",
        "print(\"\\n--- Corpus Statistics ---\")\n",
        "for key, value in stats.items():\n",
        "    print(f\"{key}: {value}\")"
      ]
    },
    {
      "cell_type": "markdown",
      "metadata": {},
      "source": [
        "## Interactive Tokenization\n",
        "\n",
        "You can enter a Telugu sentence or paragraph to see how it gets tokenized."
      ]
    },
    {
      "cell_type": "code",
      "execution_count": null,
      "metadata": {
        "id": "opz8iaBiPtcq"
      },
      "outputs": [],
      "source": [
        "# User Input\n",
        "print(\"\\n🔤 Enter a Telugu sentence or paragraph to tokenize (or press Enter to skip):\")\n",
        "user_input = input()\n",
        "\n",
        "if user_input.strip():\n",
        "    user_sentences = tokenize_sentences(user_input)\n",
        "    print(\"\\n Tokenized Output:\")\n",
        "    for i, sent in enumerate(user_sentences, 1):\n",
        "        words = tokenize_words(sent)\n",
        "        print(f\"Sentence {i}: {' '.join(words)}\")\n",
        "else:\n",
        "    print(\"No input provided. Skipping user tokenization.\")"
      ]
    }
  ],
  "metadata": {
    "colab": {
      "provenance": []
    },
    "kernelspec": {
      "display_name": "Python 3",
      "name": "python3"
    },
    "language_info": {
      "codemirror_mode": {
        "name": "ipython",
        "version": 3
      },
      "file_extension": ".py",
      "mimetype": "text/x-python",
      "name": "python",
      "nbconvert_exporter": "python",
      "pygments_lexer": "ipython3",
      "version": "3.12.2"
    }
  },
  "nbformat": 4,
  "nbformat_minor": 0
}
