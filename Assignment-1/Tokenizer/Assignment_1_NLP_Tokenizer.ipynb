{
  "cells": [
    {
      "cell_type": "markdown",
      "metadata": {},
      "source": [
        "# Telugu Tokenization Pipeline using IndicCorpV2\n",
        "\n",
        "This notebook demonstrates how to:\n",
        "- Load Telugu text from the AI4Bharat IndicCorpV2 dataset\n",
        "- Tokenize text into sentences and words using Unicode-aware regex\n",
        "- Save tokenized output to a file\n",
        "- Compute corpus-level statistics\n",
        "- Tokenize user input interactively\n",
        "\n",
        "---"
      ]
    },
    {
      "cell_type": "code",
      "execution_count": null,
      "metadata": {
        "collapsed": true,
        "id": "j6OH5jdomkPS"
      },
      "outputs": [
        {
          "name": "stdout",
          "output_type": "stream",
          "text": [
            "Collecting datasets\n",
            "  Downloading datasets-4.0.0-py3-none-any.whl.metadata (19 kB)\n",
            "Requirement already satisfied: filelock in c:\\users\\mahitha\\appdata\\local\\programs\\python\\python312\\lib\\site-packages (from datasets) (3.18.0)\n",
            "Requirement already satisfied: numpy>=1.17 in c:\\users\\mahitha\\appdata\\local\\programs\\python\\python312\\lib\\site-packages (from datasets) (2.2.6)\n",
            "Requirement already satisfied: pyarrow>=15.0.0 in c:\\users\\mahitha\\appdata\\local\\programs\\python\\python312\\lib\\site-packages (from datasets) (19.0.1)\n",
            "Collecting dill<0.3.9,>=0.3.0 (from datasets)\n",
            "  Downloading dill-0.3.8-py3-none-any.whl.metadata (10 kB)\n",
            "Requirement already satisfied: pandas in c:\\users\\mahitha\\appdata\\local\\programs\\python\\python312\\lib\\site-packages (from datasets) (2.2.3)\n",
            "Requirement already satisfied: requests>=2.32.2 in c:\\users\\mahitha\\appdata\\local\\programs\\python\\python312\\lib\\site-packages (from datasets) (2.32.3)\n",
            "Requirement already satisfied: tqdm>=4.66.3 in c:\\users\\mahitha\\appdata\\local\\programs\\python\\python312\\lib\\site-packages (from datasets) (4.67.1)\n",
            "Collecting xxhash (from datasets)\n",
            "  Downloading xxhash-3.5.0-cp312-cp312-win_amd64.whl.metadata (13 kB)\n",
            "Collecting multiprocess<0.70.17 (from datasets)\n",
            "  Downloading multiprocess-0.70.16-py312-none-any.whl.metadata (7.2 kB)\n",
            "Collecting fsspec<=2025.3.0,>=2023.1.0 (from fsspec[http]<=2025.3.0,>=2023.1.0->datasets)\n",
            "  Downloading fsspec-2025.3.0-py3-none-any.whl.metadata (11 kB)\n",
            "Requirement already satisfied: huggingface-hub>=0.24.0 in c:\\users\\mahitha\\appdata\\local\\programs\\python\\python312\\lib\\site-packages (from datasets) (0.30.1)\n",
            "Requirement already satisfied: packaging in c:\\users\\mahitha\\appdata\\local\\programs\\python\\python312\\lib\\site-packages (from datasets) (24.2)\n",
            "Requirement already satisfied: pyyaml>=5.1 in c:\\users\\mahitha\\appdata\\local\\programs\\python\\python312\\lib\\site-packages (from datasets) (6.0.2)\n",
            "Requirement already satisfied: aiohttp!=4.0.0a0,!=4.0.0a1 in c:\\users\\mahitha\\appdata\\local\\programs\\python\\python312\\lib\\site-packages (from fsspec[http]<=2025.3.0,>=2023.1.0->datasets) (3.11.16)\n",
            "Requirement already satisfied: aiohappyeyeballs>=2.3.0 in c:\\users\\mahitha\\appdata\\local\\programs\\python\\python312\\lib\\site-packages (from aiohttp!=4.0.0a0,!=4.0.0a1->fsspec[http]<=2025.3.0,>=2023.1.0->datasets) (2.6.1)\n",
            "Requirement already satisfied: aiosignal>=1.1.2 in c:\\users\\mahitha\\appdata\\local\\programs\\python\\python312\\lib\\site-packages (from aiohttp!=4.0.0a0,!=4.0.0a1->fsspec[http]<=2025.3.0,>=2023.1.0->datasets) (1.3.2)\n",
            "Requirement already satisfied: attrs>=17.3.0 in c:\\users\\mahitha\\appdata\\local\\programs\\python\\python312\\lib\\site-packages (from aiohttp!=4.0.0a0,!=4.0.0a1->fsspec[http]<=2025.3.0,>=2023.1.0->datasets) (25.3.0)\n",
            "Requirement already satisfied: frozenlist>=1.1.1 in c:\\users\\mahitha\\appdata\\local\\programs\\python\\python312\\lib\\site-packages (from aiohttp!=4.0.0a0,!=4.0.0a1->fsspec[http]<=2025.3.0,>=2023.1.0->datasets) (1.6.0)\n",
            "Requirement already satisfied: multidict<7.0,>=4.5 in c:\\users\\mahitha\\appdata\\local\\programs\\python\\python312\\lib\\site-packages (from aiohttp!=4.0.0a0,!=4.0.0a1->fsspec[http]<=2025.3.0,>=2023.1.0->datasets) (6.4.3)\n",
            "Requirement already satisfied: propcache>=0.2.0 in c:\\users\\mahitha\\appdata\\local\\programs\\python\\python312\\lib\\site-packages (from aiohttp!=4.0.0a0,!=4.0.0a1->fsspec[http]<=2025.3.0,>=2023.1.0->datasets) (0.3.1)\n",
            "Requirement already satisfied: yarl<2.0,>=1.17.0 in c:\\users\\mahitha\\appdata\\local\\programs\\python\\python312\\lib\\site-packages (from aiohttp!=4.0.0a0,!=4.0.0a1->fsspec[http]<=2025.3.0,>=2023.1.0->datasets) (1.20.0)\n",
            "Requirement already satisfied: idna>=2.0 in c:\\users\\mahitha\\appdata\\local\\programs\\python\\python312\\lib\\site-packages (from yarl<2.0,>=1.17.0->aiohttp!=4.0.0a0,!=4.0.0a1->fsspec[http]<=2025.3.0,>=2023.1.0->datasets) (3.10)\n",
            "Requirement already satisfied: typing-extensions>=3.7.4.3 in c:\\users\\mahitha\\appdata\\local\\programs\\python\\python312\\lib\\site-packages (from huggingface-hub>=0.24.0->datasets) (4.12.2)\n",
            "Requirement already satisfied: charset-normalizer<4,>=2 in c:\\users\\mahitha\\appdata\\local\\programs\\python\\python312\\lib\\site-packages (from requests>=2.32.2->datasets) (3.4.0)\n",
            "Requirement already satisfied: urllib3<3,>=1.21.1 in c:\\users\\mahitha\\appdata\\local\\programs\\python\\python312\\lib\\site-packages (from requests>=2.32.2->datasets) (2.2.3)\n",
            "Requirement already satisfied: certifi>=2017.4.17 in c:\\users\\mahitha\\appdata\\local\\programs\\python\\python312\\lib\\site-packages (from requests>=2.32.2->datasets) (2024.12.14)\n",
            "Requirement already satisfied: colorama in c:\\users\\mahitha\\appdata\\local\\programs\\python\\python312\\lib\\site-packages (from tqdm>=4.66.3->datasets) (0.4.6)\n",
            "Requirement already satisfied: python-dateutil>=2.8.2 in c:\\users\\mahitha\\appdata\\local\\programs\\python\\python312\\lib\\site-packages (from pandas->datasets) (2.9.0.post0)\n",
            "Requirement already satisfied: pytz>=2020.1 in c:\\users\\mahitha\\appdata\\local\\programs\\python\\python312\\lib\\site-packages (from pandas->datasets) (2025.1)\n",
            "Requirement already satisfied: tzdata>=2022.7 in c:\\users\\mahitha\\appdata\\local\\programs\\python\\python312\\lib\\site-packages (from pandas->datasets) (2025.1)\n",
            "Requirement already satisfied: six>=1.5 in c:\\users\\mahitha\\appdata\\local\\programs\\python\\python312\\lib\\site-packages (from python-dateutil>=2.8.2->pandas->datasets) (1.17.0)\n",
            "Downloading datasets-4.0.0-py3-none-any.whl (494 kB)\n",
            "Downloading dill-0.3.8-py3-none-any.whl (116 kB)\n",
            "Downloading fsspec-2025.3.0-py3-none-any.whl (193 kB)\n",
            "Downloading multiprocess-0.70.16-py312-none-any.whl (146 kB)\n",
            "Downloading xxhash-3.5.0-cp312-cp312-win_amd64.whl (30 kB)\n",
            "Installing collected packages: xxhash, fsspec, dill, multiprocess, datasets\n",
            "\n",
            "  Attempting uninstall: fsspec\n",
            "\n",
            "    Found existing installation: fsspec 2025.3.2\n",
            "\n",
            "    Uninstalling fsspec-2025.3.2:\n",
            "\n",
            "      Successfully uninstalled fsspec-2025.3.2\n",
            "\n",
            "   -------- ------------------------------- 1/5 [fsspec]\n",
            "   -------- ------------------------------- 1/5 [fsspec]\n",
            "   -------- ------------------------------- 1/5 [fsspec]\n",
            "   -------- ------------------------------- 1/5 [fsspec]\n",
            "   -------- ------------------------------- 1/5 [fsspec]\n",
            "   -------- ------------------------------- 1/5 [fsspec]\n",
            "   -------- ------------------------------- 1/5 [fsspec]\n",
            "   -------- ------------------------------- 1/5 [fsspec]\n",
            "   -------- ------------------------------- 1/5 [fsspec]\n",
            "   -------- ------------------------------- 1/5 [fsspec]\n",
            "   ---------------- ----------------------- 2/5 [dill]\n",
            "   ---------------- ----------------------- 2/5 [dill]\n",
            "   ---------------- ----------------------- 2/5 [dill]\n",
            "   ---------------- ----------------------- 2/5 [dill]\n",
            "   ---------------- ----------------------- 2/5 [dill]\n",
            "   ---------------- ----------------------- 2/5 [dill]\n",
            "   ---------------- ----------------------- 2/5 [dill]\n",
            "   ---------------- ----------------------- 2/5 [dill]\n",
            "   ------------------------ --------------- 3/5 [multiprocess]\n",
            "   ------------------------ --------------- 3/5 [multiprocess]\n",
            "   ------------------------ --------------- 3/5 [multiprocess]\n",
            "   ------------------------ --------------- 3/5 [multiprocess]\n",
            "   ------------------------ --------------- 3/5 [multiprocess]\n",
            "   ------------------------ --------------- 3/5 [multiprocess]\n",
            "   ------------------------ --------------- 3/5 [multiprocess]\n",
            "   -------------------------------- ------- 4/5 [datasets]\n",
            "   -------------------------------- ------- 4/5 [datasets]\n",
            "   -------------------------------- ------- 4/5 [datasets]\n",
            "   -------------------------------- ------- 4/5 [datasets]\n",
            "   -------------------------------- ------- 4/5 [datasets]\n",
            "   -------------------------------- ------- 4/5 [datasets]\n",
            "   -------------------------------- ------- 4/5 [datasets]\n",
            "   -------------------------------- ------- 4/5 [datasets]\n",
            "   -------------------------------- ------- 4/5 [datasets]\n",
            "   -------------------------------- ------- 4/5 [datasets]\n",
            "   -------------------------------- ------- 4/5 [datasets]\n",
            "   -------------------------------- ------- 4/5 [datasets]\n",
            "   -------------------------------- ------- 4/5 [datasets]\n",
            "   -------------------------------- ------- 4/5 [datasets]\n",
            "   -------------------------------- ------- 4/5 [datasets]\n",
            "   -------------------------------- ------- 4/5 [datasets]\n",
            "   ---------------------------------------- 5/5 [datasets]\n",
            "\n",
            "Successfully installed datasets-4.0.0 dill-0.3.8 fsspec-2025.3.0 multiprocess-0.70.16 xxhash-3.5.0\n"
          ]
        },
        {
          "name": "stderr",
          "output_type": "stream",
          "text": [
            "c:\\Users\\Mahitha\\AppData\\Local\\Programs\\Python\\Python312\\Lib\\site-packages\\tqdm\\auto.py:21: TqdmWarning: IProgress not found. Please update jupyter and ipywidgets. See https://ipywidgets.readthedocs.io/en/stable/user_install.html\n",
            "  from .autonotebook import tqdm as notebook_tqdm\n",
            "c:\\Users\\Mahitha\\AppData\\Local\\Programs\\Python\\Python312\\Lib\\site-packages\\huggingface_hub\\file_download.py:144: UserWarning: `huggingface_hub` cache-system uses symlinks by default to efficiently store duplicated files but your machine does not support them in C:\\Users\\Mahitha\\.cache\\huggingface\\hub\\datasets--ai4bharat--IndicCorpV2. Caching files will still work but in a degraded version that might require more space on your disk. This warning can be disabled by setting the `HF_HUB_DISABLE_SYMLINKS_WARNING` environment variable. For more details, see https://huggingface.co/docs/huggingface_hub/how-to-cache#limitations.\n",
            "To support symlinks on Windows, you either need to activate Developer Mode or to run Python as an administrator. In order to activate developer mode, see this article: https://docs.microsoft.com/en-us/windows/apps/get-started/enable-your-device-for-development\n",
            "  warnings.warn(message)\n"
          ]
        },
        {
          "name": "stdout",
          "output_type": "stream",
          "text": [
            "అమెరికా అధ్యక్షుడు డొనాల్డ్ ట్రంప్ కు రాష్ట్రపతి  భవన్ వద్ద ఘనస్వాగతం లభించింది. ఆయనకు రాష్ట్రపతి రామ్ నాథ్ కోవింద్ దంపతులు, ప్రధాని మోదీ సాదరంగా ఆహ్వానం పలకడంతో పాటు సైనికులు గౌరవ వందనాన్ని అందించారు.\n"
          ]
        }
      ],
      "source": [
        "# Load dataset \n",
        "# !pip install datasets\n",
        "from datasets import load_dataset\n",
        "\n",
        "dataset = load_dataset(\"ai4bharat/IndicCorpV2\", \"indiccorp_v2\", split=\"tel_Telu\", streaming=True)\n",
        "first_item = next(iter(dataset))\n",
        "print(first_item['text'])"
      ]
    },
    {
      "cell_type": "markdown",
      "metadata": {},
      "source": [
        "## Tokenization Functions\n",
        "\n",
        "We define two functions:\n",
        "- `tokenize_sentences`: Splits text into sentences using punctuation.\n",
        "- `tokenize_words`: Uses regex to extract Telugu words, numbers, dates, URLs, emails, and punctuation."
      ]
    },
    {
      "cell_type": "code",
      "execution_count": 2,
      "metadata": {
        "collapsed": true,
        "id": "EjHEz5p4o1i8"
      },
      "outputs": [],
      "source": [
        "# Define Tokenizers\n",
        "import re\n",
        "\n",
        "def tokenize_sentences(text):\n",
        "    sentences = re.split(r'[।.!?]+\\s*', text)\n",
        "    return [s.strip() for s in sentences if s.strip()]\n",
        "\n",
        "def tokenize_words(text):\n",
        "    pattern = r'''\n",
        "        \\d{1,2}[/-]\\d{1,2}[/-]\\d{2,4}     |  # Dates like 12/08/2025\n",
        "        \\d{4}-\\d{2}-\\d{2}                 |  # Dates like 2025-08-05\n",
        "        https?://\\S+                     |  # URLs with http or https\n",
        "        www\\.\\S+                         |  # URLs starting with www\n",
        "        [\\w._%+-]+@[\\w.-]+\\.\\w+          |  # Email addresses\n",
        "        \\d+\\.\\d+                         |  # Decimal numbers\n",
        "        \\d+                              |  # Whole numbers\n",
        "        [\\u0C00-\\u0C7F]+                 |  # Telugu words\n",
        "        [^\\s\\u0C00-\\u0C7F]               # Punctuation and symbols\n",
        "    '''\n",
        "    return re.findall(pattern, text, re.VERBOSE)"
      ]
    },
    {
      "cell_type": "markdown",
      "metadata": {},
      "source": [
        "## Tokenize Dataset and Save to File\n",
        "\n",
        "We tokenize each paragraph into sentences and words, then save the output to a `.txt` file.\n"
      ]
    },
    {
      "cell_type": "code",
      "execution_count": 3,
      "metadata": {
        "collapsed": true,
        "id": "Sdx0WXj8qEcf"
      },
      "outputs": [],
      "source": [
        "# Tokenize and Save\n",
        "output_file = \"tokenized_bengali.txt\"\n",
        "\n",
        "sentence_list = []\n",
        "word_list = []\n",
        "\n",
        "with open(output_file, \"w\", encoding=\"utf-8\") as f_out:\n",
        "    count = 0\n",
        "    for item in dataset:\n",
        "        paragraph = item[\"text\"]\n",
        "        sentences = tokenize_sentences(paragraph)\n",
        "\n",
        "        for sent in sentences:\n",
        "            words = tokenize_words(sent)\n",
        "            if words:\n",
        "                f_out.write(\" \".join(words) + \"\\n\")\n",
        "                sentence_list.append(words)\n",
        "                word_list.extend(words)\n",
        "\n",
        "        # Limit for quick testing\n",
        "        count += 1\n",
        "        if count >= 1000:\n",
        "            break\n"
      ]
    },
    {
      "cell_type": "markdown",
      "metadata": {},
      "source": [
        "## Corpus Statistics\n",
        "\n",
        "We compute:\n",
        "- Total sentences, words, and characters\n",
        "- Average sentence and word length\n",
        "- Type/Token Ratio (TTR)\n"
      ]
    },
    {
      "cell_type": "code",
      "execution_count": 4,
      "metadata": {
        "id": "ZZatnkhzdQRB"
      },
      "outputs": [],
      "source": [
        "# Compute Statistics\n",
        "def compute_statistics(sentences, words):\n",
        "    total_sentences = len(sentences)\n",
        "    total_words = len(words)\n",
        "    total_chars = sum(len(word) for word in words)\n",
        "    avg_sentence_len = total_words / total_sentences if total_sentences > 0 else 0\n",
        "    avg_word_len = total_chars / total_words if total_words > 0 else 0\n",
        "    ttr = len(set(words)) / total_words if total_words > 0 else 0\n",
        "\n",
        "    return {\n",
        "        'Total Sentences': total_sentences,\n",
        "        'Total Words': total_words,\n",
        "        'Total Characters': total_chars,\n",
        "        'Average Sentence Length': round(avg_sentence_len, 2),\n",
        "        'Average Word Length': round(avg_word_len, 2),\n",
        "        'Type/Token Ratio (TTR)': round(ttr, 4)\n",
        "    }\n"
      ]
    },
    {
      "cell_type": "code",
      "execution_count": 5,
      "metadata": {
        "id": "lFf-d7indTgl"
      },
      "outputs": [
        {
          "name": "stdout",
          "output_type": "stream",
          "text": [
            "\n",
            "--- Corpus Statistics ---\n",
            "Total Sentences: 1945\n",
            "Total Words: 19367\n",
            "Total Characters: 111631\n",
            "Average Sentence Length: 9.96\n",
            "Average Word Length: 5.76\n",
            "Type/Token Ratio (TTR): 0.4289\n"
          ]
        }
      ],
      "source": [
        "stats = compute_statistics(sentence_list, word_list)\n",
        "print(\"\\n--- Corpus Statistics ---\")\n",
        "for key, value in stats.items():\n",
        "    print(f\"{key}: {value}\")"
      ]
    },
    {
      "cell_type": "markdown",
      "metadata": {},
      "source": [
        "## Interactive Tokenization\n",
        "\n",
        "You can enter a Telugu sentence or paragraph to see how it gets tokenized."
      ]
    },
    {
      "cell_type": "code",
      "execution_count": null,
      "metadata": {
        "id": "opz8iaBiPtcq"
      },
      "outputs": [
        {
          "name": "stdout",
          "output_type": "stream",
          "text": [
            "\n",
            "🔤 Enter a Telugu sentence or paragraph to tokenize (or press Enter to skip):\n"
          ]
        }
      ],
      "source": [
        "# User Input\n",
        "print(\"\\n🔤 Enter a Telugu sentence or paragraph to tokenize (or press Enter to skip):\")\n",
        "user_input = input()\n",
        "\n",
        "if user_input.strip():\n",
        "    user_sentences = tokenize_sentences(user_input)\n",
        "    print(\"\\n Tokenized Output:\")\n",
        "    for i, sent in enumerate(user_sentences, 1):\n",
        "        words = tokenize_words(sent)\n",
        "        print(f\"Sentence {i}: {' '.join(words)}\")\n",
        "else:\n",
        "    print(\"No input provided. Skipping user tokenization.\")"
      ]
    }
  ],
  "metadata": {
    "colab": {
      "provenance": []
    },
    "kernelspec": {
      "display_name": "Python 3",
      "name": "python3"
    },
    "language_info": {
      "codemirror_mode": {
        "name": "ipython",
        "version": 3
      },
      "file_extension": ".py",
      "mimetype": "text/x-python",
      "name": "python",
      "nbconvert_exporter": "python",
      "pygments_lexer": "ipython3",
      "version": "3.12.2"
    }
  },
  "nbformat": 4,
  "nbformat_minor": 0
}
