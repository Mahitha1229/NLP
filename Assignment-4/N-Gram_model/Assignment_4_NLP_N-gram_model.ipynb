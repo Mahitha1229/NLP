{
 "cells": [
  {
   "cell_type": "markdown",
   "id": "4b8a84da",
   "metadata": {},
   "source": [
    "## Building N-Gram Language Models\n",
    "This section describes how to build Unigram, Bigram, Trigram, and Quadrigram models using a tokenized Telugu corpus. The corpus is stored in a file named tokenized_telugu.txt, where each line represents a tokenized sentence with tokens separated by spaces."
   ]
  },
  {
   "cell_type": "markdown",
   "id": "41026267",
   "metadata": {},
   "source": [
    "## Load Tokenized telugu sentences\n",
    "We begin by reading the tokenized sentences from the input file. Each line is split into tokens and stored as a list of lists."
   ]
  },
  {
   "cell_type": "code",
   "execution_count": null,
   "id": "f4a524cb",
   "metadata": {},
   "outputs": [],
   "source": [
    "from collections import Counter, defaultdict\n",
    "def load_tokenized_sentences(filepath):\n",
    "    with open(filepath, 'r', encoding='utf-8') as f:\n",
    "        lines = f.readlines()\n",
    "    tokenized_sentences = [line.strip().split() for line in lines if line.strip()]\n",
    "    return tokenized_sentences"
   ]
  },
  {
   "cell_type": "markdown",
   "id": "91e76ab6",
   "metadata": {},
   "source": [
    "## Build Unigram Model\n",
    "The Unigram model counts individual tokens and computes their probabilities based on total token frequency."
   ]
  },
  {
   "cell_type": "code",
   "execution_count": null,
   "id": "b1042216",
   "metadata": {},
   "outputs": [],
   "source": [
    "def build_unigram_model(sentences):\n",
    "    unigram_counts = Counter(token for sentence in sentences for token in sentence)\n",
    "    total_tokens = sum(unigram_counts.values())\n",
    "    unigram_probs = {token: count / total_tokens for token, count in unigram_counts.items()}\n",
    "    return unigram_counts, unigram_probs"
   ]
  },
  {
   "cell_type": "markdown",
   "id": "856de033",
   "metadata": {},
   "source": [
    "## Build Bigram Model\n",
    "The Bigram model captures token pairs and their frequency across the corpus."
   ]
  },
  {
   "cell_type": "code",
   "execution_count": null,
   "id": "aece5457",
   "metadata": {},
   "outputs": [],
   "source": [
    "def build_bigram_model(sentences):\n",
    "    bigram_counts = defaultdict(int)\n",
    "    for sentence in sentences:\n",
    "        for i in range(len(sentence) - 1):\n",
    "            bigram = (sentence[i], sentence[i+1])\n",
    "            bigram_counts[bigram] += 1\n",
    "    return bigram_counts"
   ]
  },
  {
   "cell_type": "markdown",
   "id": "6faeb490",
   "metadata": {},
   "source": [
    "## Build Trigram Model\n",
    "The Trigram model captures sequences of three consecutive tokens."
   ]
  },
  {
   "cell_type": "code",
   "execution_count": null,
   "id": "c5fe8a11",
   "metadata": {},
   "outputs": [],
   "source": [
    "def build_trigram_model(sentences):\n",
    "    trigram_counts = defaultdict(int)\n",
    "    for sentence in sentences:\n",
    "        for i in range(len(sentence) - 2):\n",
    "            trigram = tuple(sentence[i:i+3])\n",
    "            trigram_counts[trigram] += 1\n",
    "    return trigram_counts"
   ]
  },
  {
   "cell_type": "markdown",
   "id": "04cfd3a8",
   "metadata": {},
   "source": [
    "## Build Quadrigram Model\n",
    "The Quadrigram model captures sequences of four consecutive tokens."
   ]
  },
  {
   "cell_type": "code",
   "execution_count": null,
   "id": "4f432990",
   "metadata": {},
   "outputs": [],
   "source": [
    "def build_quadrigram_model(sentences):\n",
    "    quadrigram_counts = defaultdict(int)\n",
    "    for sentence in sentences:\n",
    "        for i in range(len(sentence) - 3):\n",
    "            quadrigram = tuple(sentence[i:i+4])\n",
    "            quadrigram_counts[quadrigram] += 1\n",
    "    return quadrigram_counts"
   ]
  },
  {
   "cell_type": "markdown",
   "id": "a6b10de5",
   "metadata": {},
   "source": [
    "## Save Model Output to Text Files\n",
    "Each model's output is saved to a .txt file for inspection."
   ]
  },
  {
   "cell_type": "code",
   "execution_count": null,
   "id": "89b018c4",
   "metadata": {},
   "outputs": [],
   "source": [
    "def save_model_to_file(model_counts, filename):\n",
    "    with open(filename, 'w', encoding='utf-8') as f:\n",
    "        for ngram, count in model_counts.items():\n",
    "            if isinstance(ngram, tuple):\n",
    "                ngram_str = ' '.join(ngram)\n",
    "            else:\n",
    "                ngram_str = ngram\n",
    "            f.write(f\"{ngram_str}\\t{count}\\n\")"
   ]
  },
  {
   "cell_type": "markdown",
   "id": "a00b02e7",
   "metadata": {},
   "source": [
    "## Main Execution Block\n",
    "This function ties everything together: loading data, building models, and saving outputs."
   ]
  },
  {
   "cell_type": "code",
   "execution_count": null,
   "id": "e98698b9",
   "metadata": {},
   "outputs": [],
   "source": [
    "def main():\n",
    "    filepath = \"tokenized_telugu.txt\"  # Make sure this file is in your working directory\n",
    "    tokenized_sentences = load_tokenized_sentences(filepath)\n",
    "\n",
    "    # Build models\n",
    "    unigram_counts, _ = build_unigram_model(tokenized_sentences)\n",
    "    bigram_counts = build_bigram_model(tokenized_sentences)\n",
    "    trigram_counts = build_trigram_model(tokenized_sentences)\n",
    "    quadrigram_counts = build_quadrigram_model(tokenized_sentences)\n",
    "\n",
    "    # Save to files\n",
    "    save_model_to_file(unigram_counts, \"unigram_model.txt\")\n",
    "    save_model_to_file(bigram_counts, \"bigram_model.txt\")\n",
    "    save_model_to_file(trigram_counts, \"trigram_model.txt\")\n",
    "    save_model_to_file(quadrigram_counts, \"quadrigram_model.txt\")\n",
    "\n",
    "    print(\"✅ All models saved successfully!\")\n",
    "\n",
    "if __name__ == \"__main__\":\n",
    "    main()"
   ]
  }
 ],
 "metadata": {
  "kernelspec": {
   "display_name": "Python 3",
   "language": "python",
   "name": "python3"
  },
  "language_info": {
   "codemirror_mode": {
    "name": "ipython",
    "version": 3
   },
   "file_extension": ".py",
   "mimetype": "text/x-python",
   "name": "python",
   "nbconvert_exporter": "python",
   "pygments_lexer": "ipython3",
   "version": "3.12.2"
  }
 },
 "nbformat": 4,
 "nbformat_minor": 5
}
