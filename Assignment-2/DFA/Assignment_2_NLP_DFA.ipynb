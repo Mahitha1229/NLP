{
  "cells": [
    {
      "cell_type": "markdown",
      "metadata": {},
      "source": [
        "# Simplified English Word Validator using DFA\n",
        "\n",
        "This notebook demonstrates how to build and visualize a **Deterministic Finite Automaton (DFA)** that accepts simplified English words.  \n",
        "A word is accepted if:\n",
        "- It is **non-empty**\n",
        "- It contains **only lowercase English letters** (`a–z`)\n"
      ]
    },
    {
      "cell_type": "code",
      "execution_count": null,
      "metadata": {
        "colab": {
          "base_uri": "https://localhost:8080/"
        },
        "collapsed": true,
        "id": "ylKWy8PzQGDh",
        "outputId": "0f79a84a-6360-416b-85fb-5fb583fd874d"
      },
      "outputs": [],
      "source": [
        "# Installation of required packages\n",
        "!pip install visual-automata\n",
        "!pip install automathon coloraide pygraphviz\n",
        "!apt-get install -y graphviz libgraphviz-dev\n",
        "!pip install pygraphviz"
      ]
    },
    {
      "cell_type": "markdown",
      "metadata": {},
      "source": [
        "## DFA Logic\n",
        "\n",
        "We define a DFA with three states:\n",
        "- `start`: Initial state\n",
        "- `valid`: Accepting state\n",
        "- `dead`: Rejecting state\n",
        "\n",
        "Transitions:\n",
        "- From `start` to `valid` on `[a–z]`\n",
        "- From `valid` to itself on `[a–z]`\n",
        "- Any other character leads to `dead`\n"
      ]
    },
    {
      "cell_type": "code",
      "execution_count": null,
      "metadata": {
        "colab": {
          "base_uri": "https://localhost:8080/"
        },
        "collapsed": true,
        "id": "cb_1Y3lGqeGo",
        "outputId": "85c91860-7133-44f4-f210-da8cfed0a78d"
      },
      "outputs": [],
      "source": [
        "# Word Validator function\n",
        "\n",
        "def validate_word(word: str) -> str:\n",
        "    current_state = \"start\"\n",
        "\n",
        "    for character in word:\n",
        "        if current_state == \"start\":\n",
        "            if character.islower():\n",
        "                current_state = \"valid\"\n",
        "            else:\n",
        "                return \"Not Accepted\"\n",
        "        elif current_state == \"valid\":\n",
        "            if character.islower():\n",
        "                continue\n",
        "            else:\n",
        "                return \"Not Accepted\"\n",
        "\n",
        "    return \"Accepted\" if current_state == \"valid\" else \"Not Accepted\"\n",
        "\n",
        "\n",
        "def run_validator():\n",
        "    print(\"Simplified English Word Validator (DFA)\")\n",
        "    print(\"Type 'exit' to stop.\\n\")\n",
        "\n",
        "    while True:\n",
        "        input_word = input(\"Enter a word: \")\n",
        "        if input_word.lower() == \"exit\":\n",
        "            print(\"Exiting the validator. Goodbye!\")\n",
        "            break\n",
        "\n",
        "        result = validate_word(input_word)\n",
        "        print(f\"Result: {result}\\n\")\n",
        "\n",
        "\n",
        "if __name__ == \"__main__\":\n",
        "    run_validator()"
      ]
    },
    {
      "cell_type": "markdown",
      "metadata": {},
      "source": [
        "## DFA Visualization\n",
        "\n",
        "We use `networkx` and `matplotlib` to draw the DFA graphically.  \n",
        "The accepting state (`valid`) is shown with a double circle.  \n",
        "Transitions are labeled with `[a–z]` or `other` for invalid characters.\n"
      ]
    },
    {
      "cell_type": "code",
      "execution_count": null,
      "metadata": {
        "colab": {
          "base_uri": "https://localhost:8080/",
          "height": 611
        },
        "collapsed": true,
        "id": "_shobbUYPsPP",
        "outputId": "56b97d7f-430e-4bcd-e194-01b024d3a5a2"
      },
      "outputs": [],
      "source": [
        "import networkx as nx\n",
        "import matplotlib.pyplot as plt\n",
        "from matplotlib.patches import Circle, FancyArrow\n",
        "from visual_automata.fa.dfa import DFA\n",
        "\n",
        "def visualize_simplified_word_dfa(figsize=(8,4)):\n",
        "    G = nx.MultiDiGraph()\n",
        "    states = [\"start\", \"valid\", \"dead\"]\n",
        "    G.add_nodes_from(states)\n",
        "\n",
        "    # We'll label transitions compactly: [a-z] and other\n",
        "    G.add_edge(\"start\", \"valid\", label=\"[a-z]\")\n",
        "    G.add_edge(\"start\", \"dead\",  label=\"other (Σ \\\\ [a-z])\")\n",
        "    G.add_edge(\"valid\", \"valid\", label=\"[a-z]\")\n",
        "    G.add_edge(\"valid\", \"dead\",  label=\"other (Σ \\\\ [a-z])\")\n",
        "    G.add_edge(\"dead\", \"dead\",   label=\"any\")\n",
        "\n",
        "    # Nice fixed positions\n",
        "    pos = {\"start\": (-1.2, 0.4), \"valid\": (0.8, 0.4), \"dead\": (-0.2, -0.6)}\n",
        "\n",
        "    plt.figure(figsize=figsize)\n",
        "    ax = plt.gca()\n",
        "    ax.set_title(\"DFA for simplified English words\\n(accepts non-empty strings of [a–z])\")\n",
        "\n",
        "    # draw nodes\n",
        "    nx.draw_networkx_nodes(G, pos, node_size=2200, node_color=\"#e3f2fd\", edgecolors=\"k\")\n",
        "    nx.draw_networkx_labels(G, pos, font_size=11, font_weight=\"bold\")\n",
        "\n",
        "    # edges\n",
        "    nx.draw_networkx_edges(G, pos, connectionstyle=\"arc3, rad=0.12\", arrowsize=20)\n",
        "    edge_labels = nx.get_edge_attributes(G, \"label\")\n",
        "    nx.draw_networkx_edge_labels(G, pos, edge_labels=edge_labels, font_size=10, label_pos=0.5)\n",
        "\n",
        "    # initial arrow\n",
        "    start_pos = pos[\"start\"]\n",
        "    arrow = FancyArrow(start_pos[0]-0.4, start_pos[1], 0.28, 0.0,\n",
        "                       width=0.02, length_includes_head=True, head_width=0.08, head_length=0.05, color=\"k\")\n",
        "    ax.add_patch(arrow)\n",
        "\n",
        "    # double circle for accepting state 'valid'\n",
        "    valid_pos = pos[\"valid\"]\n",
        "    outer = Circle(valid_pos, 0.28, fill=False, linewidth=1.6, zorder=3)\n",
        "    inner = Circle(valid_pos, 0.22, fill=False, linewidth=1.6, zorder=3)\n",
        "    ax.add_patch(outer)\n",
        "    ax.add_patch(inner)\n",
        "\n",
        "    # dead state single circle drawn already by nodes; optionally mark 'dead' label smaller\n",
        "    ax.text(0.9, -0.9, \"Legend:\\n[a-z] = lowercase letters\\nother = digits, spaces, uppercase, punctuation\",\n",
        "            fontsize=9, bbox=dict(boxstyle=\"round\", fc=\"wheat\", alpha=0.9))\n",
        "\n",
        "    ax.set_axis_off()\n",
        "    plt.show()\n",
        "\n",
        "# call the function to display\n",
        "visualize_simplified_word_dfa()\n",
        "\n",
        "import string\n",
        "def validate_word(word: str) -> str:\n",
        "    if not word:\n",
        "        return \"Not Accepted\"\n",
        "    if word[0] not in string.ascii_lowercase:\n",
        "        return \"Not Accepted\"\n",
        "    for ch in word[1:]:\n",
        "        if ch not in string.ascii_lowercase:\n",
        "            return \"Not Accepted\"\n",
        "    return \"Accepted\"\n",
        "\n",
        "# Example batch test\n",
        "samples = [\"cat\",\"dog\",\"a\",\"zebra\",\"dog1\",\"1dog\",\"DogHouse\",\"Dog_house\",\" cats\",\"\"]\n",
        "for s in samples:\n",
        "    print(f\"{s!r:12} -> {validate_word(s)}\")"
      ]
    }
  ],
  "metadata": {
    "colab": {
      "provenance": []
    },
    "kernelspec": {
      "display_name": "Python 3",
      "name": "python3"
    },
    "language_info": {
      "name": "python"
    }
  },
  "nbformat": 4,
  "nbformat_minor": 0
}
